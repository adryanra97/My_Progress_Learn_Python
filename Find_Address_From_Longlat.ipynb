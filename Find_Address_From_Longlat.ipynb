{
 "cells": [
  {
   "cell_type": "code",
   "execution_count": null,
   "metadata": {},
   "outputs": [],
   "source": [
    "#install some requirement"
   ]
  },
  {
   "cell_type": "code",
   "execution_count": null,
   "metadata": {},
   "outputs": [],
   "source": [
    "pip install geopy"
   ]
  },
  {
   "cell_type": "code",
   "execution_count": null,
   "metadata": {},
   "outputs": [],
   "source": [
    "pip install pandas"
   ]
  },
  {
   "cell_type": "code",
   "execution_count": null,
   "metadata": {},
   "outputs": [],
   "source": [
    "pip install tqdm"
   ]
  },
  {
   "cell_type": "code",
   "execution_count": null,
   "metadata": {},
   "outputs": [],
   "source": [
    "import pandas as pd\n",
    "import geopy\n",
    "from geopy.geocoders import Nominatim\n",
    "from geopy.extra.rate_limiter import RateLimiter\n",
    "import matplotlib.pyplot as plt\n",
    "from tqdm.notebook import tqdm_notebook\n",
    "pd.set_option('display.max_columns', None)\n",
    "#change path to file directory\n",
    "path=\"input.csv\"\n",
    "df = pd.read_csv(path,sep=\";\") #change sep if needed, sep is the char that separate between column"
   ]
  },
  {
   "cell_type": "code",
   "execution_count": null,
   "metadata": {},
   "outputs": [],
   "source": [
    "#input your csv column name for longitude and latitude column, make sure the char is same\n",
    "#we change it to other colum name so it can run my code below\n",
    "column_longitude=\"\"\n",
    "column_latitude=\"\"\n",
    "df = df.rename(columns = {column_longitude:\"X\",column_latitude:\"Y\"}) "
   ]
  },
  {
   "cell_type": "code",
   "execution_count": null,
   "metadata": {},
   "outputs": [],
   "source": [
    "#make the new colum of longitude and latitude and use the standard format so it can be input to code\n",
    "df['longlat'] = df['Y'].map(str) + ',' + df['X'].map(str)"
   ]
  },
  {
   "cell_type": "code",
   "execution_count": null,
   "metadata": {},
   "outputs": [],
   "source": [
    "#code for finding address base on longlat coordinate, and write it at new column \"address\"\n",
    "locator = Nominatim(user_agent='myGeocoder', timeout=15)\n",
    "rgeocode = RateLimiter(locator.reverse, min_delay_seconds=0.0001)\n",
    "tqdm_notebook.pandas()\n",
    "df['address'] = df['longlat'].progress_apply(rgeocode)"
   ]
  },
  {
   "cell_type": "code",
   "execution_count": null,
   "metadata": {},
   "outputs": [],
   "source": [
    "#now export it to new file\n",
    "#change address_result for the output name you want\n",
    "#for me i like to export it as excel, if you want to change to csv change \"to_excel\" to \"to_csv\", dont forget to change .xls to .csv\n",
    "df.to_excel(r'address_result.xls', index = True, header=True)"
   ]
  }
 ],
 "metadata": {
  "kernelspec": {
   "display_name": "Python 3",
   "language": "python",
   "name": "python3"
  },
  "language_info": {
   "codemirror_mode": {
    "name": "ipython",
    "version": 3
   },
   "file_extension": ".py",
   "mimetype": "text/x-python",
   "name": "python",
   "nbconvert_exporter": "python",
   "pygments_lexer": "ipython3",
   "version": "3.8.3"
  }
 },
 "nbformat": 4,
 "nbformat_minor": 4
}
